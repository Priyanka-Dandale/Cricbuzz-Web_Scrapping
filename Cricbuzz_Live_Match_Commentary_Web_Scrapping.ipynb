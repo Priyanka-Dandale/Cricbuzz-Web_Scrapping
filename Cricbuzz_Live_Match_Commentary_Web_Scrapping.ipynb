{
  "nbformat": 4,
  "nbformat_minor": 0,
  "metadata": {
    "colab": {
      "provenance": []
    },
    "kernelspec": {
      "name": "python3",
      "display_name": "Python 3"
    },
    "language_info": {
      "name": "python"
    }
  },
  "cells": [
    {
      "cell_type": "markdown",
      "source": [
        "# List of Live Matches from cricbuzz website\n",
        "\n",
        "https://www.cricbuzz.com/cricket-match/live-scores"
      ],
      "metadata": {
        "id": "zHz3_NyT-RSm"
      }
    },
    {
      "cell_type": "markdown",
      "source": [
        "# GET MATCH ID FOR LIVE MATCHES FROM BELOW OUTPUT"
      ],
      "metadata": {
        "id": "1P_oxtjxCNgY"
      }
    },
    {
      "cell_type": "code",
      "execution_count": 38,
      "metadata": {
        "colab": {
          "base_uri": "https://localhost:8080/"
        },
        "id": "-5ie8Apb9zDS",
        "outputId": "7ab8935b-7207-4ebf-ea74-c7e2756a726f"
      },
      "outputs": [
        {
          "output_type": "stream",
          "name": "stdout",
          "text": [
            "Live Match Name :  Netherlands vs United Arab Emirates,\n",
            "\n",
            "Link for this live match details :\n",
            " https://www.cricbuzz.com/live-cricket-scores/117584/ned-vs-uae-62nd-match-icc-cricket-world-cup-league-two-2023-27\n",
            "\n",
            "Match id is : 117584\n",
            "\n",
            "United Arab Emirates opt to bowl\n",
            "\n",
            "***********************************************************************************************************************************\n",
            "***********************************************************************************************************************************\n",
            "\n",
            "\n",
            "Live Match Name :  Thailand Women vs United Arab Emirates Women,\n",
            "\n",
            "Link for this live match details :\n",
            " https://www.cricbuzz.com/live-cricket-scores/118583/thaiw-vs-uaew-6th-match-womens-t20i-quadrangular-series-in-thailand-2025\n",
            "\n",
            "Match id is : 118583\n",
            "\n",
            "Thailand Women won by 16 runs\n",
            "\n",
            "***********************************************************************************************************************************\n",
            "***********************************************************************************************************************************\n",
            "\n",
            "\n",
            "Live Match Name :  Hong Kong Women vs Kuwait Women,\n",
            "\n",
            "Link for this live match details :\n",
            " https://www.cricbuzz.com/live-cricket-scores/118577/hkw-vs-kuww-5th-match-womens-t20i-quadrangular-series-in-thailand-2025\n",
            "\n",
            "Match id is : 118577\n",
            "\n",
            "Hong Kong Women won by 25 runs\n",
            "\n",
            "***********************************************************************************************************************************\n",
            "***********************************************************************************************************************************\n",
            "\n",
            "\n"
          ]
        }
      ],
      "source": [
        "import requests\n",
        "import pandas as pd\n",
        "from bs4 import BeautifulSoup\n",
        "\n",
        "url = \"https://www.cricbuzz.com/cricket-match/live-scores\"\n",
        "headers = {\"User-Agent\": \"Mozilla/5.0\"}\n",
        "\n",
        "response = requests.get(url, headers=headers)\n",
        "soup = BeautifulSoup(response.text, \"html.parser\")\n",
        "matches = soup.find_all(\"div\", class_=\"cb-mtch-lst cb-col cb-col-100 cb-tms-itm\")\n",
        "\n",
        "for match in matches:\n",
        "    title = match.find(\"h3\").text.strip()\n",
        "    print(\"Live Match Name : \",title)\n",
        "    link_tag = match.find('a', class_='text-hvr-underline text-bold')\n",
        "    if link_tag:\n",
        "        relative_link = link_tag['href']\n",
        "        full_link = \"https://www.cricbuzz.com\" + relative_link\n",
        "        print(\"\\nLink for this live match details :\\n\",full_link)\n",
        "    else:\n",
        "        print(\"Link not found\")\n",
        "    try:\n",
        "        match_id = full_link.split(\"/\")[4]\n",
        "        print(\"\\nMatch id is :\",match_id)\n",
        "    except IndexError:\n",
        "        print(\"Could not extract match ID from:\", full_link)\n",
        "        continue\n",
        "\n",
        "    status = match.find(\"div\", class_=\"cb-text-live\").text.strip() if match.find(\"div\", class_=\"cb-text-live\") else \\\n",
        "             match.find(\"div\", class_=\"cb-text-complete\").text.strip() if match.find(\"div\", class_=\"cb-text-complete\") else \\\n",
        "             \"Status Unavailable\"\n",
        "\n",
        "    print(f\"\\n{status}\")\n",
        "    print(\"\\n***********************************************************************************************************************************\")\n",
        "    print(\"***********************************************************************************************************************************\")\n",
        "    print(\"\\n\")"
      ]
    },
    {
      "cell_type": "markdown",
      "source": [
        "# Extracting Data For One Match Id"
      ],
      "metadata": {
        "id": "Tz1lsxwXCDvm"
      }
    },
    {
      "cell_type": "code",
      "source": [
        "import requests\n",
        "import pandas as pd\n",
        "from bs4 import BeautifulSoup\n",
        "\n",
        "headers = {\"User-Agent\": \"Mozilla/5.0\"}\n",
        "match_id = input(\"\\nEnter Cricbuzz Match ID (e.g., 118583): \").strip()\n",
        "\n",
        "title = \"Match\"\n",
        "try:\n",
        "    live_url = \"https://www.cricbuzz.com/cricket-match/live-scores\"\n",
        "    response = requests.get(live_url, headers=headers)\n",
        "    soup = BeautifulSoup(response.text, \"html.parser\")\n",
        "\n",
        "    for link in soup.find_all(\"a\", href=True):\n",
        "        if f\"/{match_id}/\" in link[\"href\"]:\n",
        "            title = link.text.strip()\n",
        "            break\n",
        "except Exception:\n",
        "    pass\n",
        "\n",
        "api_url = f\"https://www.cricbuzz.com/api/cricket-match/commentary/{match_id}\"\n",
        "res = requests.get(api_url, headers=headers)\n",
        "\n",
        "if res.status_code != 200:\n",
        "    print(\"Failed to fetch commentary. Check match ID.\")\n",
        "    exit()\n",
        "\n",
        "data = res.json()\n",
        "rows = []\n",
        "\n",
        "for item in data.get(\"commentaryList\", []):\n",
        "\n",
        "    raw_comment = item.get(\"commText\") or item.get(\"commentaryText\") or \"\"\n",
        "    formats = item.get(\"commentaryFormats\", {})\n",
        "    bold_formats = formats.get(\"bold\", {})\n",
        "    format_ids = bold_formats.get(\"formatId\", [])\n",
        "    format_values = bold_formats.get(\"formatValue\", [])\n",
        "\n",
        "    if format_ids and format_values:\n",
        "        for fmt_id, fmt_val in zip(format_ids, format_values):\n",
        "            raw_comment = raw_comment.replace(fmt_id, fmt_val)\n",
        "\n",
        "    rows.append({\n",
        "        \"over\": item.get(\"overNumber\"),\n",
        "        \"ball\": item.get(\"ballNbr\"),\n",
        "        \"event\": item.get(\"event\"),\n",
        "        \"commentary\": raw_comment,\n",
        "        \"batting_team\": item.get(\"batTeamName\"),\n",
        "        \"batsman\": item.get(\"batsmanStriker\", {}).get(\"batName\"),\n",
        "        \"batsman_runs\": item.get(\"batsmanStriker\", {}).get(\"batRuns\"),\n",
        "        \"bowler\": item.get(\"bowlerStriker\", {}).get(\"bowlName\"),\n",
        "        \"timestamp\": item.get(\"timestamp\")\n",
        "    })\n",
        "\n",
        "df = pd.DataFrame(rows)\n",
        "filename = f\"match_{match_id}_commentary.csv\"\n",
        "df.to_csv(filename, index=False)\n",
        "print(f\"\\nCommentary for '{title}' saved to: {filename}\")\n",
        "\n",
        "print(\"\\n Top 10 rows of Commentary data :\")\n",
        "print(df.head(10))\n"
      ],
      "metadata": {
        "colab": {
          "base_uri": "https://localhost:8080/"
        },
        "id": "LMuil8n6-DOH",
        "outputId": "66152652-6e68-495f-b0d6-99b135799c80"
      },
      "execution_count": 11,
      "outputs": [
        {
          "output_type": "stream",
          "name": "stdout",
          "text": [
            "\n",
            "Enter Cricbuzz Match ID (e.g., 118583): 117584\n",
            "\n",
            "Commentary for 'NED vs UAE - Live' saved to: match_117584_commentary.csv\n",
            "\n",
            " Top 10 rows of Commentary data :\n",
            "   over  ball       event                                         commentary  \\\n",
            "0  20.6   126  over-break                Junaid Siddique to Edwards, no run    \n",
            "1  20.5   125        NONE                Junaid Siddique to Edwards, no run    \n",
            "2  20.4   124        NONE                Junaid Siddique to Edwards, no run    \n",
            "3  20.3   123        NONE                Junaid Siddique to Edwards, no run    \n",
            "4  20.2   122        NONE               Junaid Siddique to Max ODowd, 1 run    \n",
            "5  20.1   121        NONE                 Junaid Siddique to Edwards, 1 run    \n",
            "6   NaN     0        NONE  Junaid Siddique [4.0-1-14-0] is back into the ...   \n",
            "7  19.6   120  over-break                  Dhruv Parashar to Edwards, 1 run    \n",
            "8   NaN     0        NONE  Scott Edwards, right handed bat, comes to the ...   \n",
            "9  19.5   119      WICKET   Dhruv Parashar to Michael Levitt, out Caught ...   \n",
            "\n",
            "  batting_team         batsman  batsman_runs           bowler      timestamp  \n",
            "0          NED   Scott Edwards             2  Junaid Siddique  1746527487526  \n",
            "1          NED   Scott Edwards             2  Junaid Siddique  1746527442453  \n",
            "2          NED   Scott Edwards             2  Junaid Siddique  1746527391349  \n",
            "3          NED   Scott Edwards             2  Junaid Siddique  1746527355886  \n",
            "4          NED       Max ODowd            38  Junaid Siddique  1746527355124  \n",
            "5          NED   Scott Edwards             2  Junaid Siddique  1746527318738  \n",
            "6          NED         Edwards             1   Dhruv Parashar  1746527315329  \n",
            "7          NED   Scott Edwards             1   Dhruv Parashar  1746527187259  \n",
            "8          NED         Edwards             0       Aayan Khan  1746527182658  \n",
            "9          NED  Michael Levitt            41   Dhruv Parashar  1746527100380  \n"
          ]
        }
      ]
    },
    {
      "cell_type": "code",
      "source": [
        "df.shape"
      ],
      "metadata": {
        "colab": {
          "base_uri": "https://localhost:8080/"
        },
        "id": "D-KHXuTGJGsp",
        "outputId": "9e0ff772-a926-4865-e9f3-caaae0918cf5"
      },
      "execution_count": 12,
      "outputs": [
        {
          "output_type": "execute_result",
          "data": {
            "text/plain": [
              "(20, 9)"
            ]
          },
          "metadata": {},
          "execution_count": 12
        }
      ]
    },
    {
      "cell_type": "code",
      "source": [
        "##"
      ],
      "metadata": {
        "id": "LtBjc8Y3DozE"
      },
      "execution_count": 13,
      "outputs": []
    },
    {
      "cell_type": "markdown",
      "source": [
        "# END!"
      ],
      "metadata": {
        "id": "ZbUkESD1CKGa"
      }
    }
  ]
}